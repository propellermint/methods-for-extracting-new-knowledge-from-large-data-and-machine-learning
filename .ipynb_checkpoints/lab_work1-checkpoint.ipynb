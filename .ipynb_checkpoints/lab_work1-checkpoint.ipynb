{
 "cells": [
  {
   "cell_type": "markdown",
   "metadata": {},
   "source": [
    "# 1. В файле __\"fruits.csv\"__ содержатся данные о весе и цвете различных фруктов."
   ]
  },
  {
   "cell_type": "markdown",
   "metadata": {},
   "source": [
    "## А) Считать данные с диска, с помощью функции `pandas.read_csv.` \n",
    "## Б) Вывести на экран количество считанных строк и столбцов. \n",
    "## В) Вывести названия столбцов данных, уникальные значения для столбцов `target, color.` \n",
    "## Г) Построить гистограмму распределения значений `weight` при условии `target = “apple”.` \n"
   ]
  },
  {
   "cell_type": "markdown",
   "metadata": {},
   "source": [
    "# -------------------------------------------------------------------------------------------------------------------------------"
   ]
  },
  {
   "cell_type": "markdown",
   "metadata": {},
   "source": [
    "### А) Считать данные с диска, с помощью функции `pandas.read_csv`."
   ]
  },
  {
   "cell_type": "code",
   "execution_count": 7,
   "metadata": {},
   "outputs": [],
   "source": [
    "import pandas as pd  #  импортируется библиотека pandas.\n",
    "import numpy as np   #  импортируется библиотека numpy.\n",
    "import matplotlib.pyplot as plt  #  импортируется библиотека для построения \n",
    "                                    #графиков\n",
    "\n",
    "#from jupyterthemes import jtplot\n",
    "#jtplot.style(theme='oceans16', context='notebook', ticks=True, grid=False)"
   ]
  },
  {
   "cell_type": "code",
   "execution_count": 2,
   "metadata": {},
   "outputs": [
    {
     "data": {
      "text/html": [
       "<div>\n",
       "<style scoped>\n",
       "    .dataframe tbody tr th:only-of-type {\n",
       "        vertical-align: middle;\n",
       "    }\n",
       "\n",
       "    .dataframe tbody tr th {\n",
       "        vertical-align: top;\n",
       "    }\n",
       "\n",
       "    .dataframe thead th {\n",
       "        text-align: right;\n",
       "    }\n",
       "</style>\n",
       "<table border=\"1\" class=\"dataframe\">\n",
       "  <thead>\n",
       "    <tr style=\"text-align: right;\">\n",
       "      <th></th>\n",
       "      <th>target</th>\n",
       "      <th>weight</th>\n",
       "      <th>color</th>\n",
       "    </tr>\n",
       "  </thead>\n",
       "  <tbody>\n",
       "    <tr>\n",
       "      <th>0</th>\n",
       "      <td>apple</td>\n",
       "      <td>91.234258</td>\n",
       "      <td>red</td>\n",
       "    </tr>\n",
       "    <tr>\n",
       "      <th>1</th>\n",
       "      <td>apple</td>\n",
       "      <td>125.134927</td>\n",
       "      <td>red</td>\n",
       "    </tr>\n",
       "    <tr>\n",
       "      <th>2</th>\n",
       "      <td>orange</td>\n",
       "      <td>101.313929</td>\n",
       "      <td>orange</td>\n",
       "    </tr>\n",
       "    <tr>\n",
       "      <th>3</th>\n",
       "      <td>apple</td>\n",
       "      <td>102.218174</td>\n",
       "      <td>green</td>\n",
       "    </tr>\n",
       "    <tr>\n",
       "      <th>4</th>\n",
       "      <td>apple</td>\n",
       "      <td>89.982126</td>\n",
       "      <td>red</td>\n",
       "    </tr>\n",
       "    <tr>\n",
       "      <th>5</th>\n",
       "      <td>orange</td>\n",
       "      <td>97.522840</td>\n",
       "      <td>orange</td>\n",
       "    </tr>\n",
       "    <tr>\n",
       "      <th>6</th>\n",
       "      <td>orange</td>\n",
       "      <td>96.137338</td>\n",
       "      <td>orange</td>\n",
       "    </tr>\n",
       "    <tr>\n",
       "      <th>7</th>\n",
       "      <td>apple</td>\n",
       "      <td>130.858706</td>\n",
       "      <td>green</td>\n",
       "    </tr>\n",
       "    <tr>\n",
       "      <th>8</th>\n",
       "      <td>apple</td>\n",
       "      <td>110.950357</td>\n",
       "      <td>green</td>\n",
       "    </tr>\n",
       "    <tr>\n",
       "      <th>9</th>\n",
       "      <td>apple</td>\n",
       "      <td>59.390054</td>\n",
       "      <td>red</td>\n",
       "    </tr>\n",
       "  </tbody>\n",
       "</table>\n",
       "</div>"
      ],
      "text/plain": [
       "   target      weight   color\n",
       "0   apple   91.234258     red\n",
       "1   apple  125.134927     red\n",
       "2  orange  101.313929  orange\n",
       "3   apple  102.218174   green\n",
       "4   apple   89.982126     red\n",
       "5  orange   97.522840  orange\n",
       "6  orange   96.137338  orange\n",
       "7   apple  130.858706   green\n",
       "8   apple  110.950357   green\n",
       "9   apple   59.390054     red"
      ]
     },
     "execution_count": 2,
     "metadata": {},
     "output_type": "execute_result"
    }
   ],
   "source": [
    "fruits = pd.read_csv('fruits.csv')  #  считывается таблица из файла\n",
    "fruits.head(10)                     #  выводится на экран первые десять элементов"
   ]
  },
  {
   "cell_type": "markdown",
   "metadata": {},
   "source": [
    "### Б) Вывести на экран количество считанных строк и столбцов. "
   ]
  },
  {
   "cell_type": "code",
   "execution_count": 3,
   "metadata": {},
   "outputs": [
    {
     "name": "stdout",
     "output_type": "stream",
     "text": [
      "Размер массива =  (10000, 3)\n",
      "Количество строк =  10000\n",
      "Количество столбцов =  3\n",
      "Количество строк =  10000\n",
      "Количество столбцов =  3\n"
     ]
    }
   ],
   "source": [
    "#  встроенными командами python: shape\n",
    "print(\"Размер массива = \", fruits.shape)                        #  отображается размер входного файла(размерность)\n",
    "print(\"Количество строк = \", fruits.shape[0])\n",
    "print(\"Количество столбцов = \", fruits.shape[1])\n",
    "\n",
    "#  командами len, columns, index\n",
    "print(\"Количество строк = \", len(fruits.index))\n",
    "print(\"Количество столбцов = \", len(fruits.columns))"
   ]
  },
  {
   "cell_type": "markdown",
   "metadata": {},
   "source": [
    "### В) Вывести названия столбцов данных, уникальные значения для столбцов `target, color.` "
   ]
  },
  {
   "cell_type": "code",
   "execution_count": 4,
   "metadata": {},
   "outputs": [
    {
     "name": "stdout",
     "output_type": "stream",
     "text": [
      "Названия столбцов:  target, color, weight\n",
      "Уникальные значения столбца 'targets':  {'orange', 'apple'}\n",
      "Уникальные значения столбца 'colours':  {'red', 'green', 'orange'}\n"
     ]
    }
   ],
   "source": [
    "print(\"Названия столбцов: \", \", \".join(set(fruits.columns)))\n",
    "print(\"Уникальные значения столбца 'targets': \", set(fruits['target'].unique()))\n",
    "print(\"Уникальные значения столбца 'colours': \", set(fruits['color'].unique()))"
   ]
  },
  {
   "cell_type": "markdown",
   "metadata": {},
   "source": [
    "### Г) Построить гистограмму распределения значений `weight` при условии `target = “apple”.` "
   ]
  },
  {
   "cell_type": "code",
   "execution_count": 5,
   "metadata": {},
   "outputs": [
    {
     "data": {
      "text/plain": [
       "<matplotlib.axes._subplots.AxesSubplot at 0x139547fa0>"
      ]
     },
     "execution_count": 5,
     "metadata": {},
     "output_type": "execute_result"
    },
    {
     "data": {
      "image/png": "[encoded data removed]",
      "text/plain": [
       "<Figure size 720x504 with 1 Axes>"
      ]
     },
     "metadata": {
      "needs_background": "light"
     },
     "output_type": "display_data"
    }
   ],
   "source": [
    "plt.figure(figsize=(10, 7))\n",
    "plt.xlabel('weight', fontsize=20)\n",
    "plt.ylabel('frequency', fontsize=20)\n",
    "fruits[fruits['target']=='apple']['weight'].hist(bins = 100)"
   ]
  },
  {
   "cell_type": "markdown",
   "metadata": {},
   "source": [
    "# 2. Программа, приведенная ниже, генерирует __pandas.Dataframe__ содержащий выборку из двух случайных переменных. Найти 95% доверительные интервалы их математического ожидания. Для справки: $Z_{2.5}$=1,96."
   ]
  },
  {
   "cell_type": "code",
   "execution_count": 6,
   "metadata": {},
   "outputs": [],
   "source": [
    "x = pd.DataFrame(np.random.random((100, 2)), columns=[\"x1\", \"x2\"])"
   ]
  },
  {
   "cell_type": "code",
   "execution_count": 7,
   "metadata": {},
   "outputs": [
    {
     "data": {
      "text/html": [
       "<div>\n",
       "<style scoped>\n",
       "    .dataframe tbody tr th:only-of-type {\n",
       "        vertical-align: middle;\n",
       "    }\n",
       "\n",
       "    .dataframe tbody tr th {\n",
       "        vertical-align: top;\n",
       "    }\n",
       "\n",
       "    .dataframe thead th {\n",
       "        text-align: right;\n",
       "    }\n",
       "</style>\n",
       "<table border=\"1\" class=\"dataframe\">\n",
       "  <thead>\n",
       "    <tr style=\"text-align: right;\">\n",
       "      <th></th>\n",
       "      <th>x1</th>\n",
       "      <th>x2</th>\n",
       "    </tr>\n",
       "  </thead>\n",
       "  <tbody>\n",
       "    <tr>\n",
       "      <th>0</th>\n",
       "      <td>0.753557</td>\n",
       "      <td>0.122041</td>\n",
       "    </tr>\n",
       "    <tr>\n",
       "      <th>1</th>\n",
       "      <td>0.602525</td>\n",
       "      <td>0.571220</td>\n",
       "    </tr>\n",
       "    <tr>\n",
       "      <th>2</th>\n",
       "      <td>0.299177</td>\n",
       "      <td>0.603192</td>\n",
       "    </tr>\n",
       "    <tr>\n",
       "      <th>3</th>\n",
       "      <td>0.847996</td>\n",
       "      <td>0.297382</td>\n",
       "    </tr>\n",
       "    <tr>\n",
       "      <th>4</th>\n",
       "      <td>0.105597</td>\n",
       "      <td>0.511737</td>\n",
       "    </tr>\n",
       "    <tr>\n",
       "      <th>...</th>\n",
       "      <td>...</td>\n",
       "      <td>...</td>\n",
       "    </tr>\n",
       "    <tr>\n",
       "      <th>95</th>\n",
       "      <td>0.872843</td>\n",
       "      <td>0.737494</td>\n",
       "    </tr>\n",
       "    <tr>\n",
       "      <th>96</th>\n",
       "      <td>0.818456</td>\n",
       "      <td>0.151183</td>\n",
       "    </tr>\n",
       "    <tr>\n",
       "      <th>97</th>\n",
       "      <td>0.563076</td>\n",
       "      <td>0.534531</td>\n",
       "    </tr>\n",
       "    <tr>\n",
       "      <th>98</th>\n",
       "      <td>0.427000</td>\n",
       "      <td>0.945817</td>\n",
       "    </tr>\n",
       "    <tr>\n",
       "      <th>99</th>\n",
       "      <td>0.225970</td>\n",
       "      <td>0.329074</td>\n",
       "    </tr>\n",
       "  </tbody>\n",
       "</table>\n",
       "<p>100 rows × 2 columns</p>\n",
       "</div>"
      ],
      "text/plain": [
       "          x1        x2\n",
       "0   0.753557  0.122041\n",
       "1   0.602525  0.571220\n",
       "2   0.299177  0.603192\n",
       "3   0.847996  0.297382\n",
       "4   0.105597  0.511737\n",
       "..       ...       ...\n",
       "95  0.872843  0.737494\n",
       "96  0.818456  0.151183\n",
       "97  0.563076  0.534531\n",
       "98  0.427000  0.945817\n",
       "99  0.225970  0.329074\n",
       "\n",
       "[100 rows x 2 columns]"
      ]
     },
     "execution_count": 7,
     "metadata": {},
     "output_type": "execute_result"
    }
   ],
   "source": [
    "x"
   ]
  },
  {
   "cell_type": "code",
   "execution_count": 8,
   "metadata": {},
   "outputs": [
    {
     "data": {
      "text/plain": [
       "(100, 2)"
      ]
     },
     "execution_count": 8,
     "metadata": {},
     "output_type": "execute_result"
    }
   ],
   "source": [
    "x.shape"
   ]
  },
  {
   "cell_type": "markdown",
   "metadata": {},
   "source": [
    "Сначала попробуем найти доверительный интервал без использования дополнительных инcтрументов.\n",
    "Для известного стандартного отклонения можно воспользоваться формулой:\n",
    "$$\\left(\\bar{x}-z^{*} \\frac{\\sigma}{\\sqrt{n}}, \\bar{x}+z^{*} \\frac{\\sigma}{\\sqrt{n}}\\right)$$"
   ]
  },
  {
   "cell_type": "code",
   "execution_count": 9,
   "metadata": {},
   "outputs": [
    {
     "data": {
      "text/plain": [
       "x1    0.489643\n",
       "x2    0.472542\n",
       "dtype: float64"
      ]
     },
     "execution_count": 9,
     "metadata": {},
     "output_type": "execute_result"
    }
   ],
   "source": [
    "np.mean(x)  #  средние значения через numpy"
   ]
  },
  {
   "cell_type": "code",
   "execution_count": 10,
   "metadata": {},
   "outputs": [
    {
     "data": {
      "text/plain": [
       "x1    0.274418\n",
       "x2    0.278744\n",
       "dtype: float64"
      ]
     },
     "execution_count": 10,
     "metadata": {},
     "output_type": "execute_result"
    }
   ],
   "source": [
    "np.std(x)  #  стандартное отклонения через numpy"
   ]
  },
  {
   "cell_type": "code",
   "execution_count": 11,
   "metadata": {},
   "outputs": [
    {
     "name": "stdout",
     "output_type": "stream",
     "text": [
      "Среднее значение =  0.4896429920288282 \n",
      "Доверительный интервал :  ( 0.4358571218310324   0.543428862226624 )\n"
     ]
    }
   ],
   "source": [
    "z = 1.96\n",
    "\n",
    "#  для x1\n",
    "x1mean = np.mean(x)[0]\n",
    "x1std = np.std(x)[0]\n",
    "x1left = x1mean - z * x1std / x.shape[0]**0.5\n",
    "x1right = x1mean + z * x1std / x.shape[0]**0.5\n",
    "print(\"Среднее значение = \", x1mean, \"\\nДоверительный интервал : \", \\\n",
    "      \"(\", x1left, \" \", x1right, \")\")"
   ]
  },
  {
   "cell_type": "code",
   "execution_count": 12,
   "metadata": {},
   "outputs": [
    {
     "name": "stdout",
     "output_type": "stream",
     "text": [
      "Среднее значение =  0.4725423519811586 \n",
      "Доверительный интервал :  ( 0.4179084785231213   0.527176225439196 )\n"
     ]
    }
   ],
   "source": [
    "#  для x2\n",
    "x2mean = np.mean(x)[1]\n",
    "x2std = np.std(x)[1]\n",
    "x2left = x2mean - z * x2std / x.shape[0]**0.5\n",
    "x2right = x2mean + z * x2std / x.shape[0]**0.5\n",
    "print(\"Среднее значение = \", x2mean, \"\\nДоверительный интервал : \", \\\n",
    "      \"(\", x2left, \" \", x2right, \")\")"
   ]
  },
  {
   "cell_type": "markdown",
   "metadata": {},
   "source": [
    "####  Расчет доверительного интервала функцией"
   ]
  },
  {
   "cell_type": "code",
   "execution_count": 13,
   "metadata": {},
   "outputs": [],
   "source": [
    "#  расчет доверительного интервала функцией\n",
    "import scipy.stats \n",
    "\n",
    "def mean_confidence_interval(data, confidence=0.95):\n",
    "    a = 1.0 * np.array(data)\n",
    "    n = len(a)\n",
    "    m, se = np.mean(a), scipy.stats.sem(a)\n",
    "    h = se * scipy.stats.t.ppf((1 + confidence) / 2., n-1)\n",
    "    return m, m-h, m+h"
   ]
  },
  {
   "cell_type": "code",
   "execution_count": 14,
   "metadata": {},
   "outputs": [
    {
     "data": {
      "text/plain": [
       "(0.489642992028828, 0.43491825461720196, 0.5443677294404541)"
      ]
     },
     "execution_count": 14,
     "metadata": {},
     "output_type": "execute_result"
    }
   ],
   "source": [
    "mean_confidence_interval(x[\"x1\"])"
   ]
  },
  {
   "cell_type": "code",
   "execution_count": 15,
   "metadata": {},
   "outputs": [
    {
     "data": {
      "text/plain": [
       "(0.4725423519811588, 0.4169548088629361, 0.5281298950993815)"
      ]
     },
     "execution_count": 15,
     "metadata": {},
     "output_type": "execute_result"
    }
   ],
   "source": [
    "mean_confidence_interval(x[\"x2\"])"
   ]
  },
  {
   "cell_type": "markdown",
   "metadata": {},
   "source": [
    "#### Расчет доверительного интервала встроенной функцией `t.interval`"
   ]
  },
  {
   "cell_type": "code",
   "execution_count": 16,
   "metadata": {},
   "outputs": [
    {
     "name": "stdout",
     "output_type": "stream",
     "text": [
      "для x1:\n",
      "0.4896429920288282 (0.43491825461720196, 0.5443677294404541)\n",
      "\n",
      "для x2:\n",
      "0.4725423519811586 (0.4169548088629361, 0.5281298950993815)\n"
     ]
    }
   ],
   "source": [
    "import scipy.stats as st \n",
    "\n",
    "print(\"для x1:\")\n",
    "print(x1mean, st.t.interval(0.95, len(x.x1)-1, loc=np.mean(x.x1), scale=st.sem(x.x1))) \n",
    "\n",
    "print(\"\\nдля x2:\")\n",
    "print(x2mean, st.t.interval(0.95, len(x.x2)-1, loc=np.mean(x.x2), scale=st.sem(x.x2))) "
   ]
  },
  {
   "cell_type": "markdown",
   "metadata": {},
   "source": [
    "#### Вывод\n",
    "- Методы расчета доверительного интервала созданной функцией и встроенной функцией дают одинаковые результаты, однако не удалось получить хорошего результата без использования встроенных функций\n",
    "\n",
    "- Возможно, это связано с тем, что встроенные методы используют более точные функции\n",
    "\n",
    "- После обновления `numpy` значения совпадают во втором знаке после запятой"
   ]
  },
  {
   "cell_type": "code",
   "execution_count": 17,
   "metadata": {},
   "outputs": [
    {
     "name": "stdout",
     "output_type": "stream",
     "text": [
      "Аналитически\n",
      "Среднее значение x1 =  0.4896429920288282 \n",
      "Доверительный интервал :  ( 0.4358571218310324   0.543428862226624 )\n",
      "Среднее значение x2 =  0.4725423519811586 \n",
      "Доверительный интервал :  ( 0.4179084785231213   0.527176225439196 )\n",
      "---------------------------------------------------------------------\n",
      "Пользовательская функция\n",
      "для x1:\n",
      "(0.489642992028828, 0.43491825461720196, 0.5443677294404541)\n",
      "\n",
      "для x2:\n",
      "(0.4725423519811588, 0.4169548088629361, 0.5281298950993815)\n",
      "---------------------------------------------------------------------\n",
      "Встроенная функция\n",
      "для x1:\n",
      "0.4896429920288282 (0.43491825461720196, 0.5443677294404541)\n",
      "\n",
      "для x2:\n",
      "0.4725423519811586 (0.4169548088629361, 0.5281298950993815)\n"
     ]
    }
   ],
   "source": [
    "print('Аналитически')\n",
    "print(\"Среднее значение x1 = \", x1mean, \"\\nДоверительный интервал : \", \\\n",
    "      \"(\", x1left, \" \", x1right, \")\")\n",
    "print(\"Среднее значение x2 = \", x2mean, \"\\nДоверительный интервал : \", \\\n",
    "      \"(\", x2left, \" \", x2right, \")\")\n",
    "print('---------------------------------------------------------------------')\n",
    "print('Пользовательская функция')\n",
    "print(\"для x1:\")\n",
    "print(mean_confidence_interval(x[\"x1\"])) \n",
    "\n",
    "print(\"\\nдля x2:\")\n",
    "print(mean_confidence_interval(x[\"x2\"])) \n",
    "print('---------------------------------------------------------------------')\n",
    "print('Встроенная функция')\n",
    "print(\"для x1:\")\n",
    "print(x1mean, st.t.interval(0.95, len(x.x1)-1, loc=np.mean(x.x1), scale=st.sem(x.x1))) \n",
    "\n",
    "print(\"\\nдля x2:\")\n",
    "print(x2mean, st.t.interval(0.95, len(x.x2)-1, loc=np.mean(x.x2), scale=st.sem(x.x2))) "
   ]
  },
  {
   "cell_type": "markdown",
   "metadata": {},
   "source": [
    "# 3. Программа, приведенная ниже, генерирует два файла x0.csv и x1.csv, содержащих переменную x. Используя библиотеку __mpi4py__, написать программу для параллельного расчета суммы переменной х. Файл x0.csv должен быть обработан в потоке с rank=0, x1.csv в потоке c rank=1. Сумма должна быть получена в потоке с rank=0."
   ]
  },
  {
   "cell_type": "markdown",
   "metadata": {},
   "source": [
    "### Здесь пример, как выглядят таблицы, сама программа в файле __mpi1.py__"
   ]
  },
  {
   "cell_type": "code",
   "execution_count": 8,
   "metadata": {},
   "outputs": [],
   "source": [
    "size = 10000\n",
    "pd.DataFrame(np.random.random(size=size),columns=['x']).to_csv('x0.csv')\n",
    "pd.DataFrame(np.random.random(size=size),columns=['x']).to_csv('x1.csv')"
   ]
  },
  {
   "cell_type": "code",
   "execution_count": 9,
   "metadata": {},
   "outputs": [],
   "source": [
    "#Считывание таблиц\n",
    "data0 = pd.read_csv(\"x0.csv\")\n",
    "data1 = pd.read_csv(\"x1.csv\")"
   ]
  },
  {
   "cell_type": "code",
   "execution_count": 10,
   "metadata": {},
   "outputs": [
    {
     "data": {
      "text/html": [
       "<div>\n",
       "<style scoped>\n",
       "    .dataframe tbody tr th:only-of-type {\n",
       "        vertical-align: middle;\n",
       "    }\n",
       "\n",
       "    .dataframe tbody tr th {\n",
       "        vertical-align: top;\n",
       "    }\n",
       "\n",
       "    .dataframe thead th {\n",
       "        text-align: right;\n",
       "    }\n",
       "</style>\n",
       "<table border=\"1\" class=\"dataframe\">\n",
       "  <thead>\n",
       "    <tr style=\"text-align: right;\">\n",
       "      <th></th>\n",
       "      <th>Unnamed: 0</th>\n",
       "      <th>x</th>\n",
       "    </tr>\n",
       "  </thead>\n",
       "  <tbody>\n",
       "    <tr>\n",
       "      <th>0</th>\n",
       "      <td>0</td>\n",
       "      <td>0.251340</td>\n",
       "    </tr>\n",
       "    <tr>\n",
       "      <th>1</th>\n",
       "      <td>1</td>\n",
       "      <td>0.211338</td>\n",
       "    </tr>\n",
       "    <tr>\n",
       "      <th>2</th>\n",
       "      <td>2</td>\n",
       "      <td>0.761948</td>\n",
       "    </tr>\n",
       "    <tr>\n",
       "      <th>3</th>\n",
       "      <td>3</td>\n",
       "      <td>0.313682</td>\n",
       "    </tr>\n",
       "    <tr>\n",
       "      <th>4</th>\n",
       "      <td>4</td>\n",
       "      <td>0.819729</td>\n",
       "    </tr>\n",
       "    <tr>\n",
       "      <th>...</th>\n",
       "      <td>...</td>\n",
       "      <td>...</td>\n",
       "    </tr>\n",
       "    <tr>\n",
       "      <th>9995</th>\n",
       "      <td>9995</td>\n",
       "      <td>0.263806</td>\n",
       "    </tr>\n",
       "    <tr>\n",
       "      <th>9996</th>\n",
       "      <td>9996</td>\n",
       "      <td>0.564709</td>\n",
       "    </tr>\n",
       "    <tr>\n",
       "      <th>9997</th>\n",
       "      <td>9997</td>\n",
       "      <td>0.092236</td>\n",
       "    </tr>\n",
       "    <tr>\n",
       "      <th>9998</th>\n",
       "      <td>9998</td>\n",
       "      <td>0.682594</td>\n",
       "    </tr>\n",
       "    <tr>\n",
       "      <th>9999</th>\n",
       "      <td>9999</td>\n",
       "      <td>0.458709</td>\n",
       "    </tr>\n",
       "  </tbody>\n",
       "</table>\n",
       "<p>10000 rows × 2 columns</p>\n",
       "</div>"
      ],
      "text/plain": [
       "      Unnamed: 0         x\n",
       "0              0  0.251340\n",
       "1              1  0.211338\n",
       "2              2  0.761948\n",
       "3              3  0.313682\n",
       "4              4  0.819729\n",
       "...          ...       ...\n",
       "9995        9995  0.263806\n",
       "9996        9996  0.564709\n",
       "9997        9997  0.092236\n",
       "9998        9998  0.682594\n",
       "9999        9999  0.458709\n",
       "\n",
       "[10000 rows x 2 columns]"
      ]
     },
     "execution_count": 10,
     "metadata": {},
     "output_type": "execute_result"
    }
   ],
   "source": [
    "data0"
   ]
  },
  {
   "cell_type": "code",
   "execution_count": 11,
   "metadata": {},
   "outputs": [
    {
     "data": {
      "text/html": [
       "<div>\n",
       "<style scoped>\n",
       "    .dataframe tbody tr th:only-of-type {\n",
       "        vertical-align: middle;\n",
       "    }\n",
       "\n",
       "    .dataframe tbody tr th {\n",
       "        vertical-align: top;\n",
       "    }\n",
       "\n",
       "    .dataframe thead th {\n",
       "        text-align: right;\n",
       "    }\n",
       "</style>\n",
       "<table border=\"1\" class=\"dataframe\">\n",
       "  <thead>\n",
       "    <tr style=\"text-align: right;\">\n",
       "      <th></th>\n",
       "      <th>Unnamed: 0</th>\n",
       "      <th>x</th>\n",
       "    </tr>\n",
       "  </thead>\n",
       "  <tbody>\n",
       "    <tr>\n",
       "      <th>0</th>\n",
       "      <td>0</td>\n",
       "      <td>0.061705</td>\n",
       "    </tr>\n",
       "    <tr>\n",
       "      <th>1</th>\n",
       "      <td>1</td>\n",
       "      <td>0.107273</td>\n",
       "    </tr>\n",
       "    <tr>\n",
       "      <th>2</th>\n",
       "      <td>2</td>\n",
       "      <td>0.207366</td>\n",
       "    </tr>\n",
       "    <tr>\n",
       "      <th>3</th>\n",
       "      <td>3</td>\n",
       "      <td>0.879562</td>\n",
       "    </tr>\n",
       "    <tr>\n",
       "      <th>4</th>\n",
       "      <td>4</td>\n",
       "      <td>0.399873</td>\n",
       "    </tr>\n",
       "    <tr>\n",
       "      <th>...</th>\n",
       "      <td>...</td>\n",
       "      <td>...</td>\n",
       "    </tr>\n",
       "    <tr>\n",
       "      <th>9995</th>\n",
       "      <td>9995</td>\n",
       "      <td>0.244904</td>\n",
       "    </tr>\n",
       "    <tr>\n",
       "      <th>9996</th>\n",
       "      <td>9996</td>\n",
       "      <td>0.669526</td>\n",
       "    </tr>\n",
       "    <tr>\n",
       "      <th>9997</th>\n",
       "      <td>9997</td>\n",
       "      <td>0.159869</td>\n",
       "    </tr>\n",
       "    <tr>\n",
       "      <th>9998</th>\n",
       "      <td>9998</td>\n",
       "      <td>0.236960</td>\n",
       "    </tr>\n",
       "    <tr>\n",
       "      <th>9999</th>\n",
       "      <td>9999</td>\n",
       "      <td>0.145220</td>\n",
       "    </tr>\n",
       "  </tbody>\n",
       "</table>\n",
       "<p>10000 rows × 2 columns</p>\n",
       "</div>"
      ],
      "text/plain": [
       "      Unnamed: 0         x\n",
       "0              0  0.061705\n",
       "1              1  0.107273\n",
       "2              2  0.207366\n",
       "3              3  0.879562\n",
       "4              4  0.399873\n",
       "...          ...       ...\n",
       "9995        9995  0.244904\n",
       "9996        9996  0.669526\n",
       "9997        9997  0.159869\n",
       "9998        9998  0.236960\n",
       "9999        9999  0.145220\n",
       "\n",
       "[10000 rows x 2 columns]"
      ]
     },
     "execution_count": 11,
     "metadata": {},
     "output_type": "execute_result"
    }
   ],
   "source": [
    "data1"
   ]
  },
  {
   "cell_type": "markdown",
   "metadata": {},
   "source": [
    "## Непосредственный запуск программы\n",
    "- `mpiexec` - команда MPI \n",
    "- `-n` - количество потоков, которые выделяются для обработки данных\n",
    "- `python` (в моем случае в системном пути __python = python3__) - ___ВАЖНО!___"
   ]
  },
  {
   "cell_type": "code",
   "execution_count": 12,
   "metadata": {},
   "outputs": [
    {
     "name": "stdout",
     "output_type": "stream",
     "text": [
      "Сумма всех элементов X =  108.89729284095853\r\n"
     ]
    }
   ],
   "source": [
    "# запускаем команду \n",
    "!mpiexec -n 2 python3 ./mpi1.py"
   ]
  },
  {
   "cell_type": "code",
   "execution_count": null,
   "metadata": {},
   "outputs": [],
   "source": []
  }
 ],
 "metadata": {
  "kernelspec": {
   "display_name": "Python 3",
   "language": "python",
   "name": "python3"
  },
  "language_info": {
   "codemirror_mode": {
    "name": "ipython",
    "version": 3
   },
   "file_extension": ".py",
   "mimetype": "text/x-python",
   "name": "python",
   "nbconvert_exporter": "python",
   "pygments_lexer": "ipython3",
   "version": "3.8.8"
  },
  "latex_envs": {
   "LaTeX_envs_menu_present": true,
   "autoclose": false,
   "autocomplete": true,
   "bibliofile": "biblio.bib",
   "cite_by": "apalike",
   "current_citInitial": 1,
   "eqLabelWithNumbers": true,
   "eqNumInitial": 1,
   "hotkeys": {
    "equation": "Ctrl-E",
    "itemize": "Ctrl-I"
   },
   "labels_anchors": false,
   "latex_user_defs": false,
   "report_style_numbering": false,
   "user_envs_cfg": false
  }
 },
 "nbformat": 4,
 "nbformat_minor": 4
}
